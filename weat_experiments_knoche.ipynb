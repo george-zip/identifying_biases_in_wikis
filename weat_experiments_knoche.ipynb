{
 "cells": [
  {
   "cell_type": "markdown",
   "metadata": {
    "collapsed": true,
    "pycharm": {
     "name": "#%% md\n"
    }
   },
   "source": [
    "# Replications of WEAT Experiments\n",
    "\n",
    "Reference:\n",
    "\n",
    "> Knoche, M., Popović, R., Lemmerich, F., & Strohmaier, M. (2019, September). Identifying biases in politically biased wikis through word embeddings. In Proceedings of the 30th ACM conference on hypertext and social media (pp. 253-257)."
   ]
  },
  {
   "cell_type": "code",
   "execution_count": 80,
   "metadata": {
    "pycharm": {
     "name": "#%%\n"
    }
   },
   "outputs": [],
   "source": [
    "import os\n",
    "import pickle\n",
    "\n",
    "import numpy as np\n",
    "\n",
    "from typing import Dict, List\n",
    "\n",
    "from itertools import groupby"
   ]
  },
  {
   "cell_type": "markdown",
   "metadata": {
    "pycharm": {
     "name": "#%% md\n"
    }
   },
   "source": [
    "## Load the embeddings\n",
    "Each wiki folder contains eight separately-trained embeddings from the same corpus. Minor variations in randomized starting conditions can result in different embeddings being generated with the same data set and algorithm (Antoniak and Mimno, 2018). The effect sizes will be averaged across the embeddings."
   ]
  },
  {
   "cell_type": "code",
   "execution_count": 9,
   "metadata": {
    "pycharm": {
     "name": "#%%\n"
    }
   },
   "outputs": [],
   "source": [
    "combined_embeddings = {}\n",
    "for wiki in os.listdir('embeddings'):\n",
    "    combined_embeddings[wiki] = []\n",
    "    for pkl in os.listdir(f'embeddings/{wiki}'):\n",
    "        if pkl[-3:] == 'pkl':\n",
    "            with open(f'embeddings/{wiki}/{pkl}', 'rb') as f:\n",
    "                embeddings = pickle.load(f)\n",
    "            combined_embeddings[wiki].append(\n",
    "                {word: np.array(vec) for word, vec in embeddings}\n",
    "            )"
   ]
  },
  {
   "cell_type": "markdown",
   "metadata": {
    "pycharm": {
     "name": "#%% md\n"
    }
   },
   "source": [
    "## Define Attribute and Target Sets\n",
    "These come from Caliskan et al. (2017) with additions by Knoche et al."
   ]
  },
  {
   "cell_type": "code",
   "execution_count": 109,
   "metadata": {
    "pycharm": {
     "name": "#%%\n"
    }
   },
   "outputs": [],
   "source": [
    "attributes = {'male_names': ['john', 'paul', 'mike', 'kevin',\n",
    "                             'steve', 'greg', 'jeff', 'bill'],\n",
    "              'female_names': ['amy', 'joan', 'lisa', 'sarah',\n",
    "                                'diana', 'kate', 'ann', 'donna'],\n",
    "              'male_terms': ['male', 'man', 'boy', 'brother',\n",
    "                             'he', 'him', 'his', 'son', 'father',\n",
    "                             'uncle', 'grandfather'],\n",
    "              'female_terms': ['female', 'woman', 'girl', 'sister',\n",
    "                                'she', 'her', 'hers', 'daughter',\n",
    "                                'mother', 'aunt', 'grandmother'],\n",
    "              'white_names': ['adam', 'chip', 'harry', 'josh', 'roger', 'alan',\n",
    "                             'frank', 'ian', 'justin', 'ryan', 'andrew', 'fred',\n",
    "                             'jack', 'matthew', 'stephen', 'brad', 'greg', 'jed',\n",
    "                             'paul', 'todd', 'brandon', 'hank', 'jonathan',\n",
    "                             'peter', 'wilbur', 'amanda', 'courtney', 'heather',\n",
    "                             'melanie', 'sara', 'amber', 'crystal', 'katie',\n",
    "                             'meredith', 'shannon', 'betsy', 'donna', 'kristin',\n",
    "                             'nancy', 'stephanie', 'bobbie-sue', 'ellen', 'lauren',\n",
    "                             'peggy', 'sue-ellen', 'colleen', 'emily', 'megan',\n",
    "                             'rachel', 'wendy', 'brendan', 'geoffrey', 'brett',\n",
    "                             'jay', 'neil', 'anne', 'carrie', 'jill', 'laurie',\n",
    "                             'kristen', 'sarah'],\n",
    "              'black_names': ['alonzo', 'jamel', 'lerone', 'percell', 'theo',\n",
    "                             'alphonse', 'jerome', 'leroy', 'rasaan', 'torrance',\n",
    "                             'darnell', 'lamar', 'lionel', 'rashaun', 'tyree',\n",
    "                             'deion', 'lamont', 'malik', 'terrence', 'tyrone',\n",
    "                             'everol', 'lavon', 'marcellus', 'terryl', 'wardell',\n",
    "                             'aiesha', 'lashelle', 'nichelle', 'shereen', 'temeka',\n",
    "                             'ebony', 'latisha', 'shaniqua', 'tameisha', 'teretha',\n",
    "                             'jasmine', 'latonya', 'shanise', 'tanisha', 'tia',\n",
    "                             'lakisha', 'latoya', 'sharise', 'tashika', 'yolanda',\n",
    "                             'lashandra', 'malika', 'shavonn', 'tawanda', 'yvette',\n",
    "                             'hakim', 'jermaine', 'kareem', 'jamal', 'rasheed',\n",
    "                             'aisha', 'keisha', 'kenya', 'tamika'],\n",
    "              'christianity': ['baptism', 'messiah', 'catholicism', 'resurrection',                       \n",
    "                                     'christianity', 'salvation', 'protestant', 'gospel',                        \n",
    "                                     'trinity', 'jesus', 'christ', 'christian', 'cross',                         \n",
    "                                     'catholic', 'church'],\n",
    "              'islam': ['allah', 'ramadan', 'turban', 'emir', 'salaam', 'sunni',                   \n",
    "                              'koran', 'imam', 'sultan', 'prophet', 'veil', 'ayatollah',                 \n",
    "                              'shiite', 'mosque', 'islam', 'sheik', 'muslim', 'muhammad'],\n",
    "              'atheism': ['atheism', 'atheist', 'atheistic', 'heliocentric',                         \n",
    "                                'evolution', 'darwin', 'galilei', 'agnostic',                              \n",
    "                                'agnosticism', 'pagan', 'science', 'disbelief',                            \n",
    "                                'scepticism', 'philosophy', 'university', 'kopernikus']}\n",
    "\n",
    "attributes['male'] = attributes['male_terms'] + attributes['male_names']\n",
    "attributes['female'] = attributes['female_terms'] + attributes['female_names']\n",
    "\n",
    "targets = {'career': ['executive', 'management', 'professional', 'corporation',\n",
    "                      'salary', 'office', 'business', 'career'],\n",
    "           'family': ['home', 'parents', 'children', 'family', 'cousins',\n",
    "                      'marriage', 'wedding', 'relatives'],\n",
    "           'pleasant': ['caress', 'freedom', 'health', 'love', 'peace', 'cheer', 'friend', 'heaven', 'loyal',\n",
    "                        'pleasure', 'diamond', 'gentle', 'honest', 'lucky', 'rainbow', 'diploma', 'gift', 'honor',\n",
    "                        'miracle', 'sunrise', 'family', 'happy', 'laughter', 'paradise', 'vacation', 'joy',\n",
    "                        'wonderful'],\n",
    "           'unpleasant': ['abuse', 'crash', 'filth', 'murder', 'sickness', 'accident', 'death', 'grief', 'poison',\n",
    "                          'stink', 'assault', 'disaster', 'hatred', 'pollute', 'tragedy', 'divorce', 'jail', 'poverty',\n",
    "                          'ugly', 'cancer', 'kill', 'rotten', 'vomit', 'agony', 'prison', 'terrible', 'horrible',\n",
    "                          'nasty', 'evil', 'war', 'awful', 'failure'],\n",
    "           'science': ['math', 'algebra', 'geometry', 'calculus', 'equations', 'computation', 'numbers', 'addition',\n",
    "                       'science', 'technology', 'physics', 'chemistry', 'einstein', 'nasa', 'experiment', 'astronomy'],\n",
    "           'art': ['poetry', 'art', 'dance', 'literature', 'novel', 'symphony', 'drama', 'sculpture', 'shakespeare'],\n",
    "           'intellect': ['precocious', 'resourceful', 'inquisitive', 'sagacious', 'inventive', 'astute',\n",
    "                                  'adaptable', 'reflective', 'discerning', 'intuitive', 'inquiring', 'judicious',\n",
    "                                  'analytical', 'luminous', 'venerable', 'imaginative', 'shrewd', 'thoughtful', 'sage',\n",
    "                                  'smart', 'ingenious', 'clever', 'brilliant', 'logical', 'intelligent', 'apt',\n",
    "                                  'genius', 'wise', 'stupid', 'dumb', 'dull', 'clumsy', 'foolish', 'naive', 'unintelligent', 'trivial', 'unwise', 'idiotic'],\n",
    "           'appearance': ['alluring', 'voluptuous', 'blushing', 'homely', 'plump', 'sensual', 'gorgeous', 'slim',\n",
    "                                'bald', 'athletic', 'fashionable', 'stout', 'ugly', 'muscular', 'slender', 'feeble',\n",
    "                                'handsome', 'healthy', 'attractive', 'fat', 'weak', 'thin', 'pretty', 'beautiful',\n",
    "                                'strong']}"
   ]
  },
  {
   "cell_type": "markdown",
   "metadata": {},
   "source": [
    "## Define the contrasting pairs of attributes and targets"
   ]
  },
  {
   "cell_type": "code",
   "execution_count": 113,
   "metadata": {
    "pycharm": {
     "name": "#%%\n"
    }
   },
   "outputs": [],
   "source": [
    "attribute_order = [\n",
    "    (\"male\", \"female\"),\n",
    "    (\"white_names\", \"black_names\"),\n",
    "    (\"christianity\", \"islam\"),\n",
    "    (\"christianity\", \"atheism\"),\n",
    "]\n",
    "\n",
    "target_order = [\n",
    "    (\"pleasant\", \"unpleasant\"),\n",
    "    (\"science\", \"art\"),\n",
    "    (\"intellect\", \"appearance\"),\n",
    "    (\"career\", \"family\"),\n",
    "]"
   ]
  },
  {
   "cell_type": "markdown",
   "metadata": {},
   "source": [
    "## Functions to calculate WEAT Effect Size (Caliskan et al., 2017)\n",
    "It is similar to Cohen’s d, which is the difference between two means, normalized by the standard deviation."
   ]
  },
  {
   "cell_type": "code",
   "execution_count": 127,
   "metadata": {
    "pycharm": {
     "is_executing": true
    }
   },
   "outputs": [],
   "source": [
    "from sklearn.metrics.pairwise import cosine_similarity\n",
    "\n",
    "def calculate_mcs(w: np.array, A: List[np.array], B: List[np.array]) -> np.float64:\n",
    "    \"\"\"\n",
    "    Calculate difference of the mean cosine similarity between the target word w\n",
    "    and the two attribute sets\n",
    "    w: Target word embedding\n",
    "    A: Attribute set 1 \n",
    "    B: Attribute set 2 \n",
    "    Returns: np.float64\n",
    "    \"\"\"\n",
    "    return np.mean(cosine_similarity([w], A)) - \\\n",
    "        np.mean(cosine_similarity([w], B))\n",
    "\n",
    "def calculate_weat_effect_size(X: List[np.array], Y: List[np.array], \n",
    "                               A: List[np.array], B: List[np.array]) -> np.float64:\n",
    "    \"\"\"\n",
    "    Calculate WEAT effect size from provided embeddings\n",
    "    X: Target set 1 \n",
    "    Y: Target set 2 \n",
    "    A: Attribute set 1 \n",
    "    B: Attribute set 2 \n",
    "    Returns: np.float64\n",
    "    \"\"\"\n",
    "    x_mean = np.mean([calculate_mcs(x, A, B) for x in X])\n",
    "    y_mean = np.mean([calculate_mcs(y, A, B) for y in Y])\n",
    "    std_dev = np.std([calculate_mcs(w, A, B) for w in X + Y])\n",
    "    return (x_mean - y_mean) / std_dev\n",
    "    \n",
    "def to_e(W: List[str], embedding_map: Dict[str, np.array]) -> List[str]:\n",
    "    \"\"\"\n",
    "    Return embeddings for set of words in W\n",
    "    W: List of words\n",
    "    embedding_map: embeddings\n",
    "    Returns: List containing embeddings for W\n",
    "    \"\"\"\n",
    "    return [embedding_map[w] for w in W]"
   ]
  },
  {
   "cell_type": "markdown",
   "metadata": {
    "pycharm": {
     "name": "#%% md\n"
    }
   },
   "source": [
    "### Filter attributes and targets to make sure we have embeddings available for them"
   ]
  },
  {
   "cell_type": "code",
   "execution_count": 115,
   "metadata": {
    "pycharm": {
     "name": "#%%\n"
    }
   },
   "outputs": [],
   "source": [
    "for wiki in combined_embeddings:\n",
    "    for target_pair in target_order:\n",
    "        for i in (0,1):\n",
    "            revised_terms = []\n",
    "            for term in targets[target_pair[i]]:\n",
    "                if term in combined_embeddings[wiki][0]:\n",
    "                    revised_terms.append(term)\n",
    "            targets[target_pair[i]] = revised_terms\n",
    "\n",
    "    for attribute_pair in attribute_order:\n",
    "        for i in (0,1):\n",
    "            revised_terms = []\n",
    "            for term in attributes[attribute_pair[i]]:\n",
    "                if term in combined_embeddings[wiki][0]:\n",
    "                    revised_terms.append(term)\n",
    "            attributes[attribute_pair[i]] = revised_terms"
   ]
  },
  {
   "cell_type": "markdown",
   "metadata": {},
   "source": [
    "## Calcuate WEAT effect size using above functions\n",
    "Each row is the the mean of calculations across the eight trained embeddings per corpus"
   ]
  },
  {
   "cell_type": "code",
   "execution_count": 116,
   "metadata": {},
   "outputs": [],
   "source": [
    "my_calculations = []\n",
    "for wiki in combined_embeddings:\n",
    "    for target_pair in target_order:\n",
    "        row = [\n",
    "            \"self\",\n",
    "            f\"{target_pair[0]}/{target_pair[1]}\",\n",
    "            wiki,\n",
    "        ]\n",
    "        for attribute_pair in attribute_order:\n",
    "            total = 0.0\n",
    "            for embedding_map in combined_embeddings[wiki]:\n",
    "                result = calculate_weat_effect_size(\n",
    "                    to_e(targets[target_pair[0]], embedding_map),\n",
    "                    to_e(targets[target_pair[1]], embedding_map),\n",
    "                    to_e(attributes[attribute_pair[0]], embedding_map),\n",
    "                    to_e(attributes[attribute_pair[1]], embedding_map)\n",
    "                )\n",
    "                total += result\n",
    "            row.append(f\"{total / 8:.3f}\")\n",
    "        my_calculations.append(row)"
   ]
  },
  {
   "cell_type": "markdown",
   "metadata": {
    "pycharm": {
     "name": "#%% md\n"
    }
   },
   "source": [
    "## Confirm my calculations of effect size using WEFE library (Badilla et al. 2020). \n",
    "Details can be found at https://wefe.readthedocs.io/en/latest/index.html."
   ]
  },
  {
   "cell_type": "code",
   "execution_count": 118,
   "metadata": {},
   "outputs": [],
   "source": [
    "from gensim.models import KeyedVectors\n",
    "from wefe import WordEmbeddingModel, Query, WEAT\n",
    "\n",
    "wefe_calculations = []\n",
    "for wiki in combined_embeddings:\n",
    "    for target_pair in target_order:\n",
    "        row = [\n",
    "            \"wefe\",\n",
    "            f\"{target_pair[0]}/{target_pair[1]}\",\n",
    "            wiki\n",
    "        ]\n",
    "        for attribute_pair in attribute_order:\n",
    "            total = 0.0\n",
    "            for embedding_map in combined_embeddings[wiki]:\n",
    "                kv = KeyedVectors(168)\n",
    "                keys = list(embedding_map.keys())\n",
    "                values = [np.array(vec) for vec in embedding_map.values()]\n",
    "                kv.add_vectors(\n",
    "                        keys=keys,\n",
    "                        weights=values\n",
    "                    )\n",
    "                model = WordEmbeddingModel(kv)\n",
    "                query = Query(\n",
    "                    [targets[target_pair[0]], \n",
    "                     targets[target_pair[1]]], \n",
    "                    [attributes[attribute_pair[0]], \n",
    "                     attributes[attribute_pair[1]]])\n",
    "                weat = WEAT()\n",
    "                results = weat.run_query(\n",
    "                    query, model, \n",
    "                    return_effect_size=True, \n",
    "                    calculate_p_value=False,\n",
    "                    normalize=True\n",
    "                )\n",
    "                total += results[\"effect_size\"]\n",
    "            row.append(f\"{total / 8:.3f}\")\n",
    "        wefe_calculations.append(row)"
   ]
  },
  {
   "cell_type": "markdown",
   "metadata": {},
   "source": [
    "## Compare these results with the Table 1 on p. 256 of Knoche et al. \n",
    "It is reported as Cohen's d or WEAT effect size (Caliskan et al., 2017). Many of the results are close or directionally the same, but it is clear this is not same calculation."
   ]
  },
  {
   "cell_type": "code",
   "execution_count": 126,
   "metadata": {},
   "outputs": [
    {
     "name": "stdout",
     "output_type": "stream",
     "text": [
      "source    attribute pair    wiki             male/female    white/black    christian/islam    christian/atheist\n",
      "--------  ----------------  -------------  -------------  -------------  -----------------  -------------------\n",
      "self      career/family     conservapedia          1.682         -0.294             -1.418               -1.703\n",
      "wefe      career/family     conservapedia          1.682         -0.294             -1.418               -1.703\n",
      "knoche    career/family     conservapedia          2.42          -0.22              -1.095               -1.32\n",
      "\n",
      "source    attribute pair        wiki             male/female    white/black    christian/islam    christian/atheist\n",
      "--------  --------------------  -------------  -------------  -------------  -----------------  -------------------\n",
      "self      intellect/appearance  conservapedia          0.891         -0.375              0.447               -0.491\n",
      "wefe      intellect/appearance  conservapedia          0.891         -0.375              0.447               -0.491\n",
      "knoche    intellect/appearance  conservapedia          0.882         -0.282              0.545               -0.338\n",
      "\n",
      "source    attribute pair       wiki             male/female    white/black    christian/islam    christian/atheist\n",
      "--------  -------------------  -------------  -------------  -------------  -----------------  -------------------\n",
      "self      pleasant/unpleasant  conservapedia          0.1            0.704              0.665                1.03\n",
      "wefe      pleasant/unpleasant  conservapedia          0.1            0.704              0.665                1.03\n",
      "knoche    pleasant/unpleasant  conservapedia          0.012          0.727              0.547                1.025\n",
      "\n",
      "source    attribute pair    wiki             male/female    white/black    christian/islam    christian/atheist\n",
      "--------  ----------------  -------------  -------------  -------------  -----------------  -------------------\n",
      "self      science/art       conservapedia          1.535          0.337             -0.043               -1.557\n",
      "wefe      science/art       conservapedia          1.535          0.337             -0.043               -1.557\n",
      "knoche    science/art       conservapedia          1.626          0.304              0.128               -2.123\n",
      "\n",
      "source    attribute pair    wiki            male/female    white/black    christian/islam    christian/atheist\n",
      "--------  ----------------  ------------  -------------  -------------  -----------------  -------------------\n",
      "self      career/family     rationalwiki          1.496         -0.004             -1.032               -1.495\n",
      "wefe      career/family     rationalwiki          1.496         -0.004             -1.032               -1.495\n",
      "knoche    career/family     rationalwiki          1.734          0.002             -0.848               -1.291\n",
      "\n",
      "source    attribute pair        wiki            male/female    white/black    christian/islam    christian/atheist\n",
      "--------  --------------------  ------------  -------------  -------------  -----------------  -------------------\n",
      "self      intellect/appearance  rationalwiki           1.15         -0.316              0.359               -1.141\n",
      "wefe      intellect/appearance  rationalwiki           1.15         -0.316              0.359               -1.141\n",
      "knoche    intellect/appearance  rationalwiki           1.56         -0.15               0.36                -1.258\n",
      "\n",
      "source    attribute pair       wiki            male/female    white/black    christian/islam    christian/atheist\n",
      "--------  -------------------  ------------  -------------  -------------  -----------------  -------------------\n",
      "self      pleasant/unpleasant  rationalwiki         -0.049          0.238              0.387                0.445\n",
      "wefe      pleasant/unpleasant  rationalwiki         -0.049          0.238              0.387                0.445\n",
      "knoche    pleasant/unpleasant  rationalwiki         -0.112          0.257              0.271                0.321\n",
      "\n",
      "source    attribute pair    wiki            male/female    white/black    christian/islam    christian/atheist\n",
      "--------  ----------------  ------------  -------------  -------------  -----------------  -------------------\n",
      "self      science/art       rationalwiki          1.122         -0.756              0.481               -1.28\n",
      "wefe      science/art       rationalwiki          1.122         -0.756              0.481               -1.28\n",
      "knoche    science/art       rationalwiki          0.732         -0.516              0.516               -1.837\n",
      "\n",
      "source    attribute pair    wiki         male/female    white/black    christian/islam    christian/atheist\n",
      "--------  ----------------  ---------  -------------  -------------  -----------------  -------------------\n",
      "self      career/family     wikipedia          1.594          0.021             -0.381               -1.389\n",
      "wefe      career/family     wikipedia          1.594          0.021             -0.381               -1.389\n",
      "knoche    career/family     wikipedia          2.432          0.01              -0.199               -1.087\n",
      "\n",
      "source    attribute pair        wiki         male/female    white/black    christian/islam    christian/atheist\n",
      "--------  --------------------  ---------  -------------  -------------  -----------------  -------------------\n",
      "self      intellect/appearance  wikipedia          0.214          0.319             -0.093               -0.926\n",
      "wefe      intellect/appearance  wikipedia          0.214          0.319             -0.093               -0.926\n",
      "knoche    intellect/appearance  wikipedia          0.334          0.096              0.072               -1.219\n",
      "\n",
      "source    attribute pair       wiki         male/female    white/black    christian/islam    christian/atheist\n",
      "--------  -------------------  ---------  -------------  -------------  -----------------  -------------------\n",
      "self      pleasant/unpleasant  wikipedia         -0.11           0.388              0.418                0.528\n",
      "wefe      pleasant/unpleasant  wikipedia         -0.11           0.388              0.418                0.528\n",
      "knoche    pleasant/unpleasant  wikipedia         -0.114          0.305              0.273                0.419\n",
      "\n",
      "source    attribute pair    wiki         male/female    white/black    christian/islam    christian/atheist\n",
      "--------  ----------------  ---------  -------------  -------------  -----------------  -------------------\n",
      "self      science/art       wikipedia          1.473         -0.241             -0.868               -1.337\n",
      "wefe      science/art       wikipedia          1.473         -0.241             -0.868               -1.337\n",
      "knoche    science/art       wikipedia          1.324         -0.043             -0.61                -2.197\n",
      "\n"
     ]
    }
   ],
   "source": [
    "from tabulate import tabulate\n",
    "\n",
    "knoche_calculations = [\n",
    "    [\"knoche\", \"pleasant/unpleasant\", \"conservapedia\", 0.012, 0.727, 0.547, 1.025],\n",
    "    [\"knoche\", \"science/art\", \"conservapedia\", 1.626, 0.304, 0.128, -2.123],\n",
    "    [\"knoche\", \"intellect/appearance\", \"conservapedia\", 0.882, -0.282, 0.545, -0.338],\n",
    "    [\"knoche\", \"career/family\", \"conservapedia\",2.420, -0.220, -1.095, -1.320],\n",
    "    [\"knoche\", \"pleasant/unpleasant\", \"wikipedia\",  -0.114, 0.305, 0.273, 0.419],\n",
    "    [\"knoche\", \"science/art\", \"wikipedia\", 1.324, -0.043, -0.610, -2.197],\n",
    "    [\"knoche\", \"intellect/appearance\",\"wikipedia\", 0.334, 0.096, 0.072, -1.219],\n",
    "    [\"knoche\", \"career/family\", \"wikipedia\", 2.432, 0.010, -0.199, -1.087],   \n",
    "    [\"knoche\", \"pleasant/unpleasant\",\"rationalwiki\", -0.112, 0.257, 0.271, 0.321],\n",
    "    [\"knoche\", \"science/art\", \"rationalwiki\", 0.732, -0.516, 0.516, -1.837],\n",
    "    [\"knoche\", \"intellect/appearance\", \"rationalwiki\", 1.560, -0.150, 0.360, -1.258],\n",
    "    [\"knoche\", \"career/family\", \"rationalwiki\", 1.734, 0.002, -0.848, -1.291]\n",
    "]\n",
    "\n",
    "headers = [\"source\", \"wiki\",\n",
    "    \"attribute pair\", \"male/female\",\n",
    "    \"white/black\", \"christian/islam\",\n",
    "    \"christian/atheist\"\n",
    "]\n",
    "\n",
    "all_calculations = sorted(\n",
    "    my_calculations + wefe_calculations + knoche_calculations, \n",
    "    key=lambda r: (r[2], r[1])\n",
    ")\n",
    "\n",
    "headers = [\n",
    "    \"source\", \"attribute pair\",\n",
    "    \"wiki\", \"male/female\",\n",
    "    \"white/black\", \"christian/islam\",\n",
    "    \"christian/atheist\"\n",
    "]\n",
    "\n",
    "for wiki, calcs in groupby(all_calculations, key=lambda r : (r[2], r[1])):\n",
    "    print(tabulate(list(calcs), headers=headers))\n",
    "    print()"
   ]
  },
  {
   "cell_type": "markdown",
   "metadata": {
    "pycharm": {
     "name": "#%% md\n"
    }
   },
   "source": [
    "## References\n",
    "\n",
    "<a id=\"1\">[1]</a> Antoniak, M., & Mimno, D. (2018). Evaluating the stability of embedding-based word similarities. Transactions of the Association for Computational Linguistics, 6, 107-119.\n",
    "<p>\n",
    "<a id=\"2\">[2]</a> Badilla, P., Bravo-Marquez, F., & Pérez, J. (2020, January). WEFE: The Word Embeddings Fairness Evaluation Framework. In IJCAI (pp. 430-436).\n",
    "<p>\n",
    "<a id=\"3\">[3]</a> Caliskan, A., Bryson, J. J., & Narayanan, A. (2017). Semantics derived automatically from language corpora contain human-like biases. Science, 356(6334), 183-186."
   ]
  },
  {
   "cell_type": "code",
   "execution_count": null,
   "metadata": {},
   "outputs": [],
   "source": []
  }
 ],
 "metadata": {
  "kernelspec": {
   "display_name": "Python 3 (ipykernel)",
   "language": "python",
   "name": "python3"
  },
  "language_info": {
   "codemirror_mode": {
    "name": "ipython",
    "version": 3
   },
   "file_extension": ".py",
   "mimetype": "text/x-python",
   "name": "python",
   "nbconvert_exporter": "python",
   "pygments_lexer": "ipython3",
   "version": "3.8.2"
  }
 },
 "nbformat": 4,
 "nbformat_minor": 1
}
